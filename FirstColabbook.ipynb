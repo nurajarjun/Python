{
  "nbformat": 4,
  "nbformat_minor": 0,
  "metadata": {
    "colab": {
      "provenance": [],
      "authorship_tag": "ABX9TyNS9xJITrVdVzhj79E9dfKG",
      "include_colab_link": true
    },
    "kernelspec": {
      "name": "python3",
      "display_name": "Python 3"
    },
    "language_info": {
      "name": "python"
    }
  },
  "cells": [
    {
      "cell_type": "markdown",
      "metadata": {
        "id": "view-in-github",
        "colab_type": "text"
      },
      "source": [
        "<a href=\"https://colab.research.google.com/github/nurajarjun/Python/blob/master/FirstColabbook.ipynb\" target=\"_parent\"><img src=\"https://colab.research.google.com/assets/colab-badge.svg\" alt=\"Open In Colab\"/></a>"
      ]
    },
    {
      "cell_type": "code",
      "execution_count": 19,
      "metadata": {
        "colab": {
          "base_uri": "https://localhost:8080/"
        },
        "id": "TaTiINSwFbTW",
        "outputId": "91bf3989-109b-4ee2-a887-26c9b2e034c5"
      },
      "outputs": [
        {
          "output_type": "stream",
          "name": "stdout",
          "text": [
            "hello python\n",
            "[25, 24, 23, 22, 21, 20, 19, 18, 17, 16, 15, 14, 13, 12, 11, 10, 9, 8, 7, 6, 5, 4, 3, 2, 1]\n",
            "[1, 2, 3, 4, 5, 6, 7, 8, 9, 10, 11, 12, 13, 14, 15, 16, 17, 18, 19, 20, 21, 22, 23, 24, 25]\n",
            "[25, 24, 23, 22, 21, 20, 19, 18, 17, 16, 15, 14, 13, 12, 11, 10, 9, 8, 7, 6, 5, 4, 3, 2, 1]\n"
          ]
        }
      ],
      "source": [
        "print(\"hello python\")\n",
        "alist = [1,2,3,4,5,6,7,18,19,20,21,22,23,24,25,8,9,10,11,12,13,14,15,16,17]\n",
        "alist.sort(reverse=True)\n",
        "print(alist)\n",
        "\n",
        "alist = sorted(alist)\n",
        "print(alist)\n",
        "\n",
        "alist = sorted(alist,reverse=True)\n",
        "print(alist)"
      ]
    },
    {
      "cell_type": "code",
      "source": [
        "\"\"\"\n",
        "In Python, append(), extend(), and concatenate()\n",
        "are all methods that can be used to add elements to a list. Here’s how they differ:\n",
        "\n",
        "append(): This method adds a single element to the end of a list.\n",
        "For example, if you have a list a = [1, 2, 3] and you call a.append(4), the resulting list will be [1, 2, 3, 4].\n",
        "\n",
        "extend(): This method adds multiple elements to the end of a list. You can pass an iterable\n",
        " (e.g., another list, tuple, or string) to extend(), and its elements will be added to the end of the original list.\n",
        " For example, if you have a list a = [1, 2, 3] and you call a.extend([4, 5, 6]), the resulting list will be [1, 2, 3, 4, 5, 6].\n",
        "\n",
        "concatenate(): This method is not a built-in method of Python lists, but it can be achieved using the + operator.\n",
        "It concatenates two lists together to create a new list.\n",
        "For example, if you have two lists a = [1, 2, 3] and b = [4, 5, 6],\n",
        "you can concatenate them using c = a + b, and the resulting list will be [1, 2, 3, 4, 5, 6].\n",
        "\"\"\""
      ],
      "metadata": {
        "id": "OqrPxUAyHDkn"
      },
      "execution_count": null,
      "outputs": []
    },
    {
      "cell_type": "code",
      "source": [],
      "metadata": {
        "id": "LUhbJvNSGfnP"
      },
      "execution_count": null,
      "outputs": []
    },
    {
      "cell_type": "code",
      "source": [],
      "metadata": {
        "id": "rB3hTQf_Gdvo"
      },
      "execution_count": null,
      "outputs": []
    },
    {
      "cell_type": "code",
      "source": [],
      "metadata": {
        "id": "X7Oi3VAjGTtq"
      },
      "execution_count": null,
      "outputs": []
    }
  ]
}